{
 "cells": [
  {
   "cell_type": "code",
   "execution_count": 1,
   "metadata": {
    "collapsed": true
   },
   "outputs": [],
   "source": [
    "import descarteslabs as dl"
   ]
  },
  {
   "cell_type": "markdown",
   "metadata": {},
   "source": [
    "### Find New Oreleans"
   ]
  },
  {
   "cell_type": "code",
   "execution_count": 2,
   "metadata": {},
   "outputs": [
    {
     "name": "stdout",
     "output_type": "stream",
     "text": [
      "north-america_united-states_louisiana_southeast_orleans_new-orleans\n"
     ]
    }
   ],
   "source": [
    "counties = dl.places.prefix('north-america_united-states_louisiana', placetype='locality')\n",
    "\n",
    "slug = [place['properties']['slug'] for place in counties['features'] \n",
    "        if 'new-orleans' in place['properties']['slug']][0]\n",
    "\n",
    "print(slug)"
   ]
  },
  {
   "cell_type": "markdown",
   "metadata": {},
   "source": [
    "### Find SAR data for New Orleans"
   ]
  },
  {
   "cell_type": "code",
   "execution_count": 3,
   "metadata": {},
   "outputs": [
    {
     "name": "stdout",
     "output_type": "stream",
     "text": [
      "\n",
      "Number of Sentinel-1 images over New Orleans since January 2016:         51\n",
      "\n"
     ]
    }
   ],
   "source": [
    "metadata = dl.metadata.search(products='sentinel-1:GRD',\n",
    "                              place=slug,\n",
    "                              start_time='2016-01-01',\n",
    "                              limit=1000)\n",
    "\n",
    "print(\"\\nNumber of Sentinel-1 images over New Orleans since January 2016: {:>10}\\n\".format(len(metadata['features'])))"
   ]
  },
  {
   "cell_type": "markdown",
   "metadata": {},
   "source": [
    "### Save each image to GeoTiff"
   ]
  },
  {
   "cell_type": "code",
   "execution_count": 4,
   "metadata": {
    "collapsed": true
   },
   "outputs": [],
   "source": [
    "for image in metadata['features']:\n",
    "    \n",
    "    dl.raster.raster(image['id'],\n",
    "                     bands=['vv','vh','vh'],\n",
    "                     scales=[(0,255),(0,255),(0,255)],\n",
    "                     output_format='GTiff',\n",
    "                     data_type='Byte',\n",
    "                     resolution=20,\n",
    "                     srs='EPSG:32616',\n",
    "                     place=slug,\n",
    "                     resampler='near',\n",
    "                     save=True)"
   ]
  }
 ],
 "metadata": {
  "kernelspec": {
   "display_name": "Python 3",
   "language": "python",
   "name": "python3"
  },
  "language_info": {
   "codemirror_mode": {
    "name": "ipython",
    "version": 3
   },
   "file_extension": ".py",
   "mimetype": "text/x-python",
   "name": "python",
   "nbconvert_exporter": "python",
   "pygments_lexer": "ipython3",
   "version": "3.6.1"
  }
 },
 "nbformat": 4,
 "nbformat_minor": 2
}
